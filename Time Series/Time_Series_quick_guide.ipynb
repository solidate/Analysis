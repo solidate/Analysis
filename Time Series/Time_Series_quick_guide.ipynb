{
  "nbformat": 4,
  "nbformat_minor": 0,
  "metadata": {
    "colab": {
      "name": "Time Series quick guide.ipynb",
      "provenance": [],
      "private_outputs": true,
      "authorship_tag": "ABX9TyNSxNKgJuIdpTGcjxASpJt3",
      "include_colab_link": true
    },
    "kernelspec": {
      "name": "python3",
      "display_name": "Python 3"
    }
  },
  "cells": [
    {
      "cell_type": "markdown",
      "metadata": {
        "id": "view-in-github",
        "colab_type": "text"
      },
      "source": [
        "<a href=\"https://colab.research.google.com/github/solidate/Analysis/blob/master/Time%20Series/Time_Series_quick_guide.ipynb\" target=\"_parent\"><img src=\"https://colab.research.google.com/assets/colab-badge.svg\" alt=\"Open In Colab\"/></a>"
      ]
    },
    {
      "cell_type": "markdown",
      "metadata": {
        "id": "6nyKZEYOUjuc",
        "colab_type": "text"
      },
      "source": [
        "## Time Series\n",
        "\n",
        "Time series is the sequence of observations on a variable measured over successive periods of time. This measurement may be daily, weekly, monthly, quaterly, annually or any other regular interval of time.\n",
        "\n",
        "\\begin{equation}\n",
        "y_{t} = f(t) \n",
        "\\end{equation}\n",
        "\n",
        "e.g. Population of country in different years can be considered as time series where measurement are done on annual basis.\n",
        "\n",
        "#### Time Series Data:\n",
        "Arrangement of data in occurance of time.\n",
        "\n",
        "\n",
        "\n",
        "*   Componens of time series\n",
        "    1.   Trend\n",
        "    2.   Seasonality\n",
        "    3.   Cyclic variation\n",
        "    4.   Irregular or Random Component\n",
        "\n",
        "\n",
        "*   Trend:\n",
        "Trend is the general tendency of the data to increase, to decrease or  to remain constant over a long period of time. Trend can be linear or non-linear.\n",
        "\n",
        "*   Seasonality;\n",
        "These variations operates periodically over a span of less than a year. They have the same patter or trend year after year i.e. Seasonal variations are there in the data if data is recorded daily, weekly, quaterly or monthly and if only annual values are given then there are no seasonal variations. e.g. Sale of cotten/woolen clothes in May/Dec.\n",
        "\n",
        "*   Cyclic Variation;\n",
        "These are the oscillatory variations in the time series with period of oscillation as more than 1 year with no fixed duration of cycle.\n",
        "e.g. Business life cycle\n",
        "    1.   Prosperity\n",
        "    2.   Recession\n",
        "    3.   Depression\n",
        "    4.   Recovery\n",
        "\n",
        "\n",
        "\n",
        "*   Random Variation:\n",
        "All the other variations in the time series which are not accounted by trend, seasonality, or cyclic variation are known as Irregular or Random Variations.These variationsare totally random and occur due to unavoidable circumstances like natural calamity.\n",
        "\n",
        "\n",
        "\n",
        "\n",
        "\n",
        "\n",
        "\n"
      ]
    }
  ]
}